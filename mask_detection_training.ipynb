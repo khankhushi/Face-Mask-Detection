{
 "cells": [
  {
   "cell_type": "markdown",
   "id": "aeb6b35a",
   "metadata": {},
   "source": [
    "## Mask Detection using MobileNetV2"
   ]
  },
  {
   "cell_type": "markdown",
   "id": "c2c957e4",
   "metadata": {},
   "source": [
    "### Importing necessary libraries"
   ]
  },
  {
   "cell_type": "code",
   "execution_count": 1,
   "id": "d0a8cb85",
   "metadata": {},
   "outputs": [],
   "source": [
    "from tensorflow.keras.preprocessing.image import ImageDataGenerator\n",
    "from tensorflow.keras.applications import MobileNetV2\n",
    "from tensorflow.keras.layers import AveragePooling2D, Dropout, Flatten, Dense, Input\n",
    "from tensorflow.keras.models import Model\n",
    "from tensorflow.keras.optimizers import Adam\n",
    "from tensorflow.keras.applications.mobilenet_v2 import preprocess_input\n",
    "from tensorflow.keras.preprocessing.image import img_to_array, load_img\n",
    "from tensorflow.keras.utils import to_categorical\n",
    "from sklearn.preprocessing import LabelBinarizer\n",
    "from sklearn.model_selection import train_test_split\n",
    "from sklearn.metrics import classification_report\n",
    "from imutils import paths\n",
    "import matplotlib.pyplot as plt\n",
    "import numpy as np\n",
    "import os"
   ]
  },
  {
   "cell_type": "code",
   "execution_count": 2,
   "id": "46e8c5cf",
   "metadata": {},
   "outputs": [],
   "source": [
    "# Initialising the initial learning rate, number of epochs and batch size\n",
    "INIT_LR = 1e-4\n",
    "EPOCHS = 30\n",
    "BS = 20"
   ]
  },
  {
   "cell_type": "code",
   "execution_count": 3,
   "id": "836b3109",
   "metadata": {},
   "outputs": [],
   "source": [
    "DIRECTORY = r\"D:/Face Mask Detection Model/dataset\"\n",
    "CATEGORIES = [\"mask\", \"withoutMask\"]"
   ]
  },
  {
   "cell_type": "code",
   "execution_count": 4,
   "id": "2f8cfbb6",
   "metadata": {},
   "outputs": [
    {
     "name": "stdout",
     "output_type": "stream",
     "text": [
      "[INFO] loading images..\n"
     ]
    }
   ],
   "source": [
    "# Initialising the list of data and labels\n",
    "print(\"[INFO] loading images..\")\n",
    "data = []\n",
    "labels = []"
   ]
  },
  {
   "cell_type": "code",
   "execution_count": 5,
   "id": "85f0302c",
   "metadata": {},
   "outputs": [
    {
     "name": "stderr",
     "output_type": "stream",
     "text": [
      "C:\\Python39\\lib\\site-packages\\PIL\\Image.py:992: UserWarning: Palette images with Transparency expressed in bytes should be converted to RGBA images\n",
      "  warnings.warn(\n"
     ]
    }
   ],
   "source": [
    "for category in CATEGORIES:\n",
    "    path = os.path.join(DIRECTORY, category)\n",
    "    for img in os.listdir(path):\n",
    "        img_path = os.path.join(path, img)\n",
    "        image = load_img(img_path, target_size=(224, 224))\n",
    "        image = img_to_array(image)\n",
    "        image = preprocess_input(image)\n",
    "        \n",
    "        data.append(image)\n",
    "        labels.append(category)"
   ]
  },
  {
   "cell_type": "markdown",
   "id": "50c58b6e",
   "metadata": {},
   "source": [
    "### Encoding labels"
   ]
  },
  {
   "cell_type": "code",
   "execution_count": 6,
   "id": "7d0cfcb3",
   "metadata": {},
   "outputs": [],
   "source": [
    "lb = LabelBinarizer()\n",
    "labels = lb.fit_transform(labels)\n",
    "labels = to_categorical(labels)"
   ]
  },
  {
   "cell_type": "code",
   "execution_count": 7,
   "id": "db177b5e",
   "metadata": {},
   "outputs": [],
   "source": [
    "data = np.array(data, dtype=\"uint8\")\n",
    "labels = np.array(labels)"
   ]
  },
  {
   "cell_type": "code",
   "execution_count": 8,
   "id": "4395da48",
   "metadata": {},
   "outputs": [],
   "source": [
    "(trainX, testX, trainY, testY) = train_test_split(data, labels,\n",
    "            test_size=0.30, stratify=labels, random_state=48)"
   ]
  },
  {
   "cell_type": "markdown",
   "id": "9b9bc38d",
   "metadata": {},
   "source": [
    "### Constructing training image generator for data augmentation"
   ]
  },
  {
   "cell_type": "code",
   "execution_count": 9,
   "id": "376e36c9",
   "metadata": {},
   "outputs": [],
   "source": [
    "aug = ImageDataGenerator(\n",
    "\trotation_range=20,\n",
    "\tzoom_range=0.15,\n",
    "\twidth_shift_range=0.2,\n",
    "\theight_shift_range=0.2,\n",
    "\tshear_range=0.15,\n",
    "\thorizontal_flip=True,\n",
    "\tfill_mode=\"nearest\")"
   ]
  },
  {
   "cell_type": "markdown",
   "id": "bfcbe5ee",
   "metadata": {},
   "source": [
    "### Creating Model"
   ]
  },
  {
   "cell_type": "code",
   "execution_count": 10,
   "id": "0271c70d",
   "metadata": {},
   "outputs": [
    {
     "name": "stdout",
     "output_type": "stream",
     "text": [
      "WARNING:tensorflow:`input_shape` is undefined or non-square, or `rows` is not in [96, 128, 160, 192, 224]. Weights for input shape (224, 224) will be loaded as the default.\n"
     ]
    }
   ],
   "source": [
    "# Creating base model using MobileNetV2 \n",
    "baseModel = MobileNetV2(weights=\"imagenet\", include_top=False,\n",
    "\tinput_tensor=Input(shape=(224, 224, 3)))"
   ]
  },
  {
   "cell_type": "code",
   "execution_count": 11,
   "id": "4157c267",
   "metadata": {},
   "outputs": [],
   "source": [
    "# Constructing head model\n",
    "headModel = baseModel.output\n",
    "headModel = AveragePooling2D(pool_size=(7, 7))(headModel)\n",
    "headModel = Flatten(name=\"flatten\")(headModel)\n",
    "headModel = Dense(128, activation=\"relu\")(headModel)\n",
    "headModel = Dropout(0.5)(headModel) # to avoid overfitting of model\n",
    "headModel = Dense(2, activation=\"softmax\")(headModel)"
   ]
  },
  {
   "cell_type": "code",
   "execution_count": 12,
   "id": "c6f94688",
   "metadata": {},
   "outputs": [],
   "source": [
    "# Placing headmodel over baseModel\n",
    "model = Model(inputs=baseModel.input, outputs=headModel)"
   ]
  },
  {
   "cell_type": "code",
   "execution_count": 13,
   "id": "40b06579",
   "metadata": {},
   "outputs": [],
   "source": [
    "for layer in baseModel.layers:\n",
    "\tlayer.trainable = False"
   ]
  },
  {
   "cell_type": "markdown",
   "id": "1e892229",
   "metadata": {},
   "source": [
    "### Compiling Model"
   ]
  },
  {
   "cell_type": "code",
   "execution_count": 14,
   "id": "22f40f83",
   "metadata": {},
   "outputs": [],
   "source": [
    "opt = Adam(learning_rate=INIT_LR, decay=INIT_LR / EPOCHS)\n",
    "model.compile(loss=\"binary_crossentropy\", optimizer=opt,\n",
    "\tmetrics=[\"accuracy\"])"
   ]
  },
  {
   "cell_type": "code",
   "execution_count": 15,
   "id": "3095ccac",
   "metadata": {},
   "outputs": [
    {
     "name": "stdout",
     "output_type": "stream",
     "text": [
      "Epoch 1/30\n",
      "333/333 [==============================] - ETA: 0s - loss: 0.6181 - accuracy: 0.6850WARNING:tensorflow:Your input ran out of data; interrupting training. Make sure that your dataset or generator can generate at least `steps_per_epoch * epochs` batches (in this case, 143 batches). You may need to use the repeat() function when building your dataset.\n",
      "333/333 [==============================] - 245s 720ms/step - loss: 0.6181 - accuracy: 0.6850 - val_loss: 0.4662 - val_accuracy: 0.7931\n",
      "Epoch 2/30\n",
      "333/333 [==============================] - 181s 542ms/step - loss: 0.5137 - accuracy: 0.7624\n",
      "Epoch 3/30\n",
      "333/333 [==============================] - 180s 541ms/step - loss: 0.4793 - accuracy: 0.7815\n",
      "Epoch 4/30\n",
      "333/333 [==============================] - 132s 395ms/step - loss: 0.4730 - accuracy: 0.7803\n",
      "Epoch 5/30\n",
      "333/333 [==============================] - 94s 281ms/step - loss: 0.4540 - accuracy: 0.7893\n",
      "Epoch 6/30\n",
      "333/333 [==============================] - 93s 279ms/step - loss: 0.4463 - accuracy: 0.7965\n",
      "Epoch 7/30\n",
      "333/333 [==============================] - 94s 282ms/step - loss: 0.4386 - accuracy: 0.8005\n",
      "Epoch 8/30\n",
      "333/333 [==============================] - 99s 297ms/step - loss: 0.4317 - accuracy: 0.8050\n",
      "Epoch 9/30\n",
      "333/333 [==============================] - 95s 286ms/step - loss: 0.4277 - accuracy: 0.8041\n",
      "Epoch 10/30\n",
      "333/333 [==============================] - 97s 290ms/step - loss: 0.4281 - accuracy: 0.8068\n",
      "Epoch 11/30\n",
      "333/333 [==============================] - 98s 295ms/step - loss: 0.4202 - accuracy: 0.8107\n",
      "Epoch 12/30\n",
      "333/333 [==============================] - 104s 312ms/step - loss: 0.4170 - accuracy: 0.8107\n",
      "Epoch 13/30\n",
      "333/333 [==============================] - 105s 314ms/step - loss: 0.4101 - accuracy: 0.8174\n",
      "Epoch 14/30\n",
      "333/333 [==============================] - 101s 302ms/step - loss: 0.4042 - accuracy: 0.8158\n",
      "Epoch 15/30\n",
      "333/333 [==============================] - 103s 308ms/step - loss: 0.4032 - accuracy: 0.8198\n",
      "Epoch 16/30\n",
      "333/333 [==============================] - 99s 297ms/step - loss: 0.3983 - accuracy: 0.8222\n",
      "Epoch 17/30\n",
      "333/333 [==============================] - 98s 293ms/step - loss: 0.3946 - accuracy: 0.8260\n",
      "Epoch 18/30\n",
      "333/333 [==============================] - 95s 285ms/step - loss: 0.4007 - accuracy: 0.8228\n",
      "Epoch 19/30\n",
      "333/333 [==============================] - 95s 284ms/step - loss: 0.4014 - accuracy: 0.8182\n",
      "Epoch 20/30\n",
      "333/333 [==============================] - 95s 283ms/step - loss: 0.3906 - accuracy: 0.8236\n",
      "Epoch 21/30\n",
      "333/333 [==============================] - 95s 284ms/step - loss: 0.3933 - accuracy: 0.8222\n",
      "Epoch 22/30\n",
      "333/333 [==============================] - 98s 292ms/step - loss: 0.3950 - accuracy: 0.8261\n",
      "Epoch 23/30\n",
      "333/333 [==============================] - 102s 305ms/step - loss: 0.3877 - accuracy: 0.8239\n",
      "Epoch 24/30\n",
      "333/333 [==============================] - 100s 299ms/step - loss: 0.3840 - accuracy: 0.8254\n",
      "Epoch 25/30\n",
      "333/333 [==============================] - 100s 299ms/step - loss: 0.3893 - accuracy: 0.8236\n",
      "Epoch 26/30\n",
      "333/333 [==============================] - 99s 295ms/step - loss: 0.3857 - accuracy: 0.8263\n",
      "Epoch 27/30\n",
      "333/333 [==============================] - 99s 296ms/step - loss: 0.3804 - accuracy: 0.8240\n",
      "Epoch 28/30\n",
      "333/333 [==============================] - 99s 296ms/step - loss: 0.3788 - accuracy: 0.8281\n",
      "Epoch 29/30\n",
      "333/333 [==============================] - 97s 292ms/step - loss: 0.3783 - accuracy: 0.8281\n",
      "Epoch 30/30\n",
      "333/333 [==============================] - 95s 285ms/step - loss: 0.3739 - accuracy: 0.8248\n"
     ]
    }
   ],
   "source": [
    "head = model.fit(\n",
    "\taug.flow(trainX, trainY, batch_size=BS),\n",
    "\tsteps_per_epoch=len(trainX) // BS,\n",
    "\tvalidation_data=(testX, testY),\n",
    "\tvalidation_steps=len(testX) // BS,\n",
    "\tepochs=EPOCHS)"
   ]
  },
  {
   "cell_type": "markdown",
   "id": "351b3840",
   "metadata": {},
   "source": [
    "### Making predictions on the model"
   ]
  },
  {
   "cell_type": "code",
   "execution_count": 16,
   "id": "7a957640",
   "metadata": {},
   "outputs": [
    {
     "name": "stdout",
     "output_type": "stream",
     "text": [
      "144/144 [==============================] - 36s 247ms/step\n"
     ]
    }
   ],
   "source": [
    "pred = model.predict(testX, batch_size=BS)\n",
    "pred = np.argmax(pred, axis=1)"
   ]
  },
  {
   "cell_type": "code",
   "execution_count": 17,
   "id": "47498323",
   "metadata": {},
   "outputs": [
    {
     "name": "stdout",
     "output_type": "stream",
     "text": [
      "              precision    recall  f1-score   support\n",
      "\n",
      "        mask       0.85      0.81      0.83      1437\n",
      " withoutMask       0.81      0.86      0.83      1424\n",
      "\n",
      "    accuracy                           0.83      2861\n",
      "   macro avg       0.83      0.83      0.83      2861\n",
      "weighted avg       0.83      0.83      0.83      2861\n",
      "\n"
     ]
    }
   ],
   "source": [
    "print(classification_report(testY.argmax(axis=1), pred,\n",
    "\ttarget_names=lb.classes_))"
   ]
  },
  {
   "cell_type": "code",
   "execution_count": 18,
   "id": "8c22c69d",
   "metadata": {},
   "outputs": [],
   "source": [
    "model.save(\"mask_detection.h5\", save_format=\"h5\")"
   ]
  },
  {
   "cell_type": "markdown",
   "id": "433be0bc",
   "metadata": {},
   "source": [
    "### Plotting the accuracy"
   ]
  },
  {
   "cell_type": "code",
   "execution_count": 22,
   "id": "169d2fb7",
   "metadata": {},
   "outputs": [
    {
     "data": {
      "image/png": "[encoded data removed]",
      "text/plain": [
       "<Figure size 432x288 with 1 Axes>"
      ]
     },
     "metadata": {},
     "output_type": "display_data"
    }
   ],
   "source": [
    "N = EPOCHS\n",
    "plt.style.use(\"ggplot\")\n",
    "plt.figure()\n",
    "plt.plot(np.arange(0, N), head.history[\"loss\"], label=\"train_loss\")\n",
    "plt.plot(np.arange(0, N), head.history[\"accuracy\"], label=\"train_acc\")\n",
    "plt.title(\"Training Loss and Accuracy\")\n",
    "plt.xlabel(\"Epoch #\")\n",
    "plt.ylabel(\"Loss/Accuracy\")\n",
    "plt.legend(loc=\"lower left\")\n",
    "plt.savefig(\"plot.png\")"
   ]
  },
  {
   "cell_type": "code",
   "execution_count": null,
   "id": "ee944d5f",
   "metadata": {},
   "outputs": [],
   "source": []
  }
 ],
 "metadata": {
  "kernelspec": {
   "display_name": "Python 3 (ipykernel)",
   "language": "python",
   "name": "python3"
  },
  "language_info": {
   "codemirror_mode": {
    "name": "ipython",
    "version": 3
   },
   "file_extension": ".py",
   "mimetype": "text/x-python",
   "name": "python",
   "nbconvert_exporter": "python",
   "pygments_lexer": "ipython3",
   "version": "3.9.6"
  }
 },
 "nbformat": 4,
 "nbformat_minor": 5
}
